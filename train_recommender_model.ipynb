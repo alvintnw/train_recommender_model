{
  "nbformat": 4,
  "nbformat_minor": 0,
  "metadata": {
    "colab": {
      "provenance": [],
      "authorship_tag": "ABX9TyNDuSahK5nassa+Pxb65HSn",
      "include_colab_link": true
    },
    "kernelspec": {
      "name": "python3",
      "display_name": "Python 3"
    },
    "language_info": {
      "name": "python"
    }
  },
  "cells": [
    {
      "cell_type": "markdown",
      "metadata": {
        "id": "view-in-github",
        "colab_type": "text"
      },
      "source": [
        "<a href=\"https://colab.research.google.com/github/alvintnw/train_recommender_model/blob/main/train_recommender_model.ipynb\" target=\"_parent\"><img src=\"https://colab.research.google.com/assets/colab-badge.svg\" alt=\"Open In Colab\"/></a>"
      ]
    },
    {
      "cell_type": "code",
      "source": [
        "import pandas as pd\n",
        "from surprise import Dataset, Reader\n",
        "from surprise import SVD\n",
        "from surprise.model_selection import train_test_split, cross_validate\n",
        "import pickle\n",
        "import os\n",
        "\n",
        "# 1. Muat dataset MovieLens\n",
        "# Pastikan file ratings.csv dan movies.csv ada di direktori yang sama\n",
        "ratings_df = pd.read_csv('ratings.csv')\n",
        "movies_df = pd.read_csv('movies.csv')\n",
        "\n",
        "# 2. Persiapkan data untuk pustaka Surprise\n",
        "# Rating scale harus sesuai dengan data Anda (misal 0.5 hingga 5.0)\n",
        "reader = Reader(rating_scale=(0.5, 5.0))\n",
        "data = Dataset.load_from_df(ratings_df[['userId', 'movieId', 'rating']], reader)\n",
        "\n",
        "# 3. Latih model SVD\n",
        "# Kita tidak perlu membagi train/test secara eksplisit di sini jika tujuannya menyimpan model terlatih\n",
        "# Namun, cross_validate bisa digunakan untuk evaluasi performa model secara robust\n",
        "print(\"Melatih model SVD...\")\n",
        "algo = SVD(n_epochs=20, n_factors=50, random_state=42, verbose=True)\n",
        "\n",
        "# Latih model pada seluruh data yang tersedia (untuk model yang akan di-deploy)\n",
        "trainset = data.build_full_trainset()\n",
        "algo.fit(trainset)\n",
        "print(\"Model SVD selesai dilatih.\")\n",
        "\n",
        "# (Opsional) Evaluasi model dengan cross-validation - hanya untuk performa, tidak perlu disimpan\n",
        "# print(\"Mengevaluasi model dengan cross-validation...\")\n",
        "# cross_validate(algo, data, measures=['RMSE', 'MAE'], cv=5, verbose=True)\n",
        "\n",
        "# 4. Simpan model terlatih menggunakan pickle\n",
        "model_filename = 'svd_recommender_model.pkl'\n",
        "with open(model_filename, 'wb') as file:\n",
        "    pickle.dump(algo, file)\n",
        "\n",
        "print(f\"Model berhasil disimpan sebagai '{model_filename}'\")\n",
        "\n",
        "# (Opsional) Simpan juga movies_df untuk mapping movieId ke judul film\n",
        "movies_df.to_csv('movies_data.csv', index=False)\n",
        "print(\"movies_data.csv juga disimpan untuk lookup film.\")"
      ],
      "metadata": {
        "id": "evJxFqUSmXx_"
      },
      "execution_count": null,
      "outputs": []
    },
    {
      "cell_type": "code",
      "metadata": {
        "id": "4052e6d8"
      },
      "source": [
        "!pip install numpy==1.26.4"
      ],
      "execution_count": null,
      "outputs": []
    },
    {
      "cell_type": "code",
      "source": [
        "import pandas as pd\n",
        "from surprise import Dataset, Reader\n",
        "from surprise import SVD\n",
        "from surprise.model_selection import train_test_split, cross_validate\n",
        "import pickle\n",
        "import os\n",
        "\n",
        "# 1. Muat dataset MovieLens\n",
        "# Pastikan file ratings.csv dan movies.csv ada di direktori yang sama\n",
        "ratings_df = pd.read_csv('ratings.csv')\n",
        "movies_df = pd.read_csv('movies.csv')\n",
        "\n",
        "# 2. Persiapkan data untuk pustaka Surprise\n",
        "# Rating scale harus sesuai dengan data Anda (misal 0.5 hingga 5.0)\n",
        "reader = Reader(rating_scale=(0.5, 5.0))\n",
        "data = Dataset.load_from_df(ratings_df[['userId', 'movieId', 'rating']], reader)\n",
        "\n",
        "# 3. Latih model SVD\n",
        "# Kita tidak perlu membagi train/test secara eksplisit di sini jika tujuannya menyimpan model terlatih\n",
        "# Namun, cross_validate bisa digunakan untuk evaluasi performa model secara robust\n",
        "print(\"Melatih model SVD...\")\n",
        "algo = SVD(n_epochs=20, n_factors=50, random_state=42, verbose=True)\n",
        "\n",
        "# Latih model pada seluruh data yang tersedia (untuk model yang akan di-deploy)\n",
        "trainset = data.build_full_trainset()\n",
        "algo.fit(trainset)\n",
        "print(\"Model SVD selesai dilatih.\")\n",
        "\n",
        "# (Opsional) Evaluasi model dengan cross-validation - hanya untuk performa, tidak perlu disimpan\n",
        "# print(\"Mengevaluasi model dengan cross-validation...\")\n",
        "# cross_validate(algo, data, measures=['RMSE', 'MAE'], cv=5, verbose=True)\n",
        "\n",
        "# 4. Simpan model terlatih menggunakan pickle\n",
        "model_filename = 'svd_recommender_model.pkl'\n",
        "with open(model_filename, 'wb') as file:\n",
        "    pickle.dump(algo, file)\n",
        "\n",
        "print(f\"Model berhasil disimpan sebagai '{model_filename}'\")\n",
        "\n",
        "# (Opsional) Simpan juga movies_df untuk mapping movieId ke judul film\n",
        "movies_df.to_csv('movies_data.csv', index=False)\n",
        "print(\"movies_data.csv juga disimpan untuk lookup film.\")"
      ],
      "metadata": {
        "id": "PsLW_oVZmlf_"
      },
      "execution_count": null,
      "outputs": []
    },
    {
      "cell_type": "code",
      "metadata": {
        "id": "c525e292"
      },
      "source": [
        "!pip install scikit-surprise"
      ],
      "execution_count": null,
      "outputs": []
    }
  ]
}